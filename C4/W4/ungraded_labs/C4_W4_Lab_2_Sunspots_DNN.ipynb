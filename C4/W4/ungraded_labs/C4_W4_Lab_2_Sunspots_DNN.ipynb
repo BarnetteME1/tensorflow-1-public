{
 "cells": [
  {
   "cell_type": "markdown",
   "metadata": {},
   "source": [
    "<a href=\"https://colab.research.google.com/github/https-deeplearning-ai/tensorflow-1-public/blob/main/C4/W4/ungraded_labs/C4_W4_Lab_2_Sunspots_DNN.ipynb\" target=\"_parent\"><img src=\"https://colab.research.google.com/assets/colab-badge.svg\" alt=\"Open In Colab\"/></a>"
   ]
  },
  {
   "cell_type": "markdown",
   "metadata": {
    "id": "JQsk1BKwZrBh"
   },
   "source": [
    "# Ungraded Lab: Predicting Sunspots with Neural Networks (DNN only)\n",
    "\n",
    "In the remaining labs for this week, you will move away from synthetic time series and start building models for real world data. In particular, you will train on the [Sunspots](https://www.kaggle.com/datasets/robervalt/sunspots) dataset: a monthly record of sunspot numbers from January 1749 to July 2018. You will first build a deep neural network here composed of dense layers. This will act as your baseline so you can compare it to the next lab where you will use a more complex architecture.\n",
    "\n",
    "Let's begin!"
   ]
  },
  {
   "cell_type": "markdown",
   "metadata": {
    "id": "2JHlrB12aeFD"
   },
   "source": [
    "## Imports\n",
    "\n",
    "You will use the same imports as before with the addition of the [csv](https://docs.python.org/3/library/csv.html) module. You will need this to parse the CSV file containing the dataset."
   ]
  },
  {
   "cell_type": "code",
   "execution_count": 1,
   "metadata": {
    "id": "56XEQOGknrAk"
   },
   "outputs": [],
   "source": [
    "import tensorflow as tf\n",
    "import numpy as np\n",
    "import matplotlib.pyplot as plt\n",
    "import csv"
   ]
  },
  {
   "cell_type": "markdown",
   "metadata": {
    "id": "D-mNttnaagBH"
   },
   "source": [
    "## Utilities\n",
    "\n",
    "You will only have the `plot_series()` dataset here because you no longer need the synthetic data generation functions."
   ]
  },
  {
   "cell_type": "code",
   "execution_count": 2,
   "metadata": {
    "id": "sLl52leVp5wU"
   },
   "outputs": [],
   "source": [
    "def plot_series(x, y, format=\"-\", start=0, end=None, \n",
    "                title=None, xlabel=None, ylabel=None, legend=None ):\n",
    "    \"\"\"\n",
    "    Visualizes time series data\n",
    "\n",
    "    Args:\n",
    "      x (array of int) - contains values for the x-axis\n",
    "      y (array of int or tuple of arrays) - contains the values for the y-axis\n",
    "      format (string) - line style when plotting the graph\n",
    "      label (string) - tag for the line\n",
    "      start (int) - first time step to plot\n",
    "      end (int) - last time step to plot\n",
    "      title (string) - title of the plot\n",
    "      xlabel (string) - label for the x-axis\n",
    "      ylabel (string) - label for the y-axis\n",
    "      legend (list of strings) - legend for the plot\n",
    "    \"\"\"\n",
    "\n",
    "    # Setup dimensions of the graph figure\n",
    "    plt.figure(figsize=(10, 6))\n",
    "    \n",
    "    # Check if there are more than two series to plot\n",
    "    if type(y) is tuple:\n",
    "\n",
    "        # Loop over the y elements\n",
    "        for y_curr in y:\n",
    "\n",
    "            # Plot the x and current y values\n",
    "            plt.plot(x[start:end], y_curr[start:end], format)\n",
    "\n",
    "    else:\n",
    "        # Plot the x and y values\n",
    "        plt.plot(x[start:end], y[start:end], format)\n",
    "\n",
    "    # Label the x-axis\n",
    "    plt.xlabel(xlabel)\n",
    "\n",
    "    # Label the y-axis\n",
    "    plt.ylabel(ylabel)\n",
    "\n",
    "    # Set the legend\n",
    "    if legend:\n",
    "        plt.legend(legend)\n",
    "\n",
    "    # Set the title\n",
    "    plt.title(title)\n",
    "\n",
    "    # Overlay a grid on the graph\n",
    "    plt.grid(True)\n",
    "\n",
    "    # Draw the graph on screen\n",
    "    plt.show()"
   ]
  },
  {
   "cell_type": "markdown",
   "metadata": {
    "id": "dFJv45pDauS8"
   },
   "source": [
    "## Download and Preview the Dataset\n",
    "\n",
    "You can now download the dataset and inspect the contents. The link in class is from Laurence's repo but we also hosted it in the link below."
   ]
  },
  {
   "cell_type": "code",
   "execution_count": 3,
   "metadata": {
    "id": "YwI-si5xyUkQ"
   },
   "outputs": [
    {
     "name": "stdout",
     "output_type": "stream",
     "text": [
      "--2022-07-14 07:35:12--  https://storage.googleapis.com/tensorflow-1-public/course4/Sunspots.csv\n",
      "Resolving storage.googleapis.com (storage.googleapis.com)... 142.251.35.240, 142.250.64.144, 142.250.64.176, ...\n",
      "Connecting to storage.googleapis.com (storage.googleapis.com)|142.251.35.240|:443... connected.\n",
      "HTTP request sent, awaiting response... 200 OK\n",
      "Length: 70827 (69K) [text/csv]\n",
      "Saving to: ‘Sunspots.csv’\n",
      "\n",
      "Sunspots.csv        100%[===================>]  69.17K  --.-KB/s    in 0.03s   \n",
      "\n",
      "2022-07-14 07:35:12 (2.12 MB/s) - ‘Sunspots.csv’ saved [70827/70827]\n",
      "\n"
     ]
    }
   ],
   "source": [
    "# Download the dataset\n",
    "!wget https://storage.googleapis.com/tensorflow-1-public/course4/Sunspots.csv"
   ]
  },
  {
   "cell_type": "markdown",
   "metadata": {
    "id": "c0fAiMytrwPJ"
   },
   "source": [
    "Running the cell below, you'll see that there are only three columns in the dataset:\n",
    "1. untitled column containing the month number\n",
    "2. Date which has the format `YYYY-MM-DD`\n",
    "3. Mean Total Sunspot Number"
   ]
  },
  {
   "cell_type": "code",
   "execution_count": 4,
   "metadata": {
    "id": "d5W2auXKrhVh"
   },
   "outputs": [
    {
     "name": "stdout",
     "output_type": "stream",
     "text": [
      ",Date,Monthly Mean Total Sunspot Number\n",
      "0,1749-01-31,96.7\n",
      "1,1749-02-28,104.3\n",
      "2,1749-03-31,116.7\n",
      "3,1749-04-30,92.8\n",
      "4,1749-05-31,141.7\n",
      "5,1749-06-30,139.2\n",
      "6,1749-07-31,158.0\n",
      "7,1749-08-31,110.5\n",
      "8,1749-09-30,126.5\n"
     ]
    }
   ],
   "source": [
    "# Preview the dataset\n",
    "!head Sunspots.csv"
   ]
  },
  {
   "cell_type": "markdown",
   "metadata": {
    "id": "lbs-Y2SDsVaw"
   },
   "source": [
    "For this lab and the next, you will only need the month number and the mean total sunspot number. You will load those into memory and convert it to arrays that represents a time series."
   ]
  },
  {
   "cell_type": "code",
   "execution_count": 5,
   "metadata": {
    "id": "NcG9r1eClbTh"
   },
   "outputs": [
    {
     "data": {
      "image/png": "[encoded data removed]",
      "text/plain": [
       "<Figure size 720x432 with 1 Axes>"
      ]
     },
     "metadata": {
      "needs_background": "light"
     },
     "output_type": "display_data"
    }
   ],
   "source": [
    "# Initialize lists\n",
    "time_step = []\n",
    "sunspots = []\n",
    "\n",
    "# Open CSV file\n",
    "with open('./Sunspots.csv') as csvfile:\n",
    "  \n",
    "    # Initialize reader\n",
    "    reader = csv.reader(csvfile, delimiter=',')\n",
    "  \n",
    "    # Skip the first line\n",
    "    next(reader)\n",
    "  \n",
    "    # Append row and sunspot number to lists\n",
    "    for row in reader:\n",
    "        time_step.append(int(row[0]))\n",
    "        sunspots.append(float(row[2]))\n",
    "\n",
    "# Convert lists to numpy arrays\n",
    "time = np.array(time_step)\n",
    "series = np.array(sunspots)\n",
    "\n",
    "# Preview the data\n",
    "plot_series(time, series, xlabel='Month', ylabel='Monthly Mean Total Sunspot Number')"
   ]
  },
  {
   "cell_type": "markdown",
   "metadata": {
    "id": "EUQE9RRoazC5"
   },
   "source": [
    "## Split the Dataset\n",
    "\n",
    "Next, you will split the dataset into training and validation sets. There are 3235 points in the dataset and you will use the first 3000 for training."
   ]
  },
  {
   "cell_type": "code",
   "execution_count": 6,
   "metadata": {
    "id": "L92YRw_IpCFG"
   },
   "outputs": [],
   "source": [
    "# Define the split time\n",
    "split_time = 3000\n",
    "\n",
    "# Get the train set \n",
    "time_train = time[:split_time]\n",
    "x_train = series[:split_time]\n",
    "\n",
    "# Get the validation set\n",
    "time_valid = time[split_time:]\n",
    "x_valid = series[split_time:]"
   ]
  },
  {
   "cell_type": "markdown",
   "metadata": {
    "id": "RbuIOrb3a093"
   },
   "source": [
    "## Prepare Features and Labels\n",
    "\n",
    "You can then prepare the dataset windows as before. The window size is set to 30 points (equal to 2.5 years) but feel free to change later on if you want to experiment."
   ]
  },
  {
   "cell_type": "code",
   "execution_count": 7,
   "metadata": {
    "id": "lJwUUZscnG38"
   },
   "outputs": [],
   "source": [
    "def windowed_dataset(series, window_size, batch_size, shuffle_buffer):\n",
    "    \"\"\"Generates dataset windows\n",
    "\n",
    "    Args:\n",
    "      series (array of float) - contains the values of the time series\n",
    "      window_size (int) - the number of time steps to include in the feature\n",
    "      batch_size (int) - the batch size\n",
    "      shuffle_buffer(int) - buffer size to use for the shuffle method\n",
    "\n",
    "    Returns:\n",
    "      dataset (TF Dataset) - TF Dataset containing time windows\n",
    "    \"\"\"\n",
    "  \n",
    "    # Generate a TF Dataset from the series values\n",
    "    dataset = tf.data.Dataset.from_tensor_slices(series)\n",
    "    \n",
    "    # Window the data but only take those with the specified size\n",
    "    dataset = dataset.window(window_size + 1, shift=1, drop_remainder=True)\n",
    "    \n",
    "    # Flatten the windows by putting its elements in a single batch\n",
    "    dataset = dataset.flat_map(lambda window: window.batch(window_size + 1))\n",
    "\n",
    "    # Create tuples with features and labels \n",
    "    dataset = dataset.map(lambda window: (window[:-1], window[-1]))\n",
    "\n",
    "    # Shuffle the windows\n",
    "    dataset = dataset.shuffle(shuffle_buffer)\n",
    "    \n",
    "    # Create batches of windows\n",
    "    dataset = dataset.batch(batch_size).prefetch(1)\n",
    "    \n",
    "    return dataset"
   ]
  },
  {
   "cell_type": "code",
   "execution_count": 8,
   "metadata": {
    "id": "9g5zSxZwZQt_"
   },
   "outputs": [
    {
     "name": "stderr",
     "output_type": "stream",
     "text": [
      "2022-07-14 07:35:12.901248: E tensorflow/stream_executor/cuda/cuda_driver.cc:271] failed call to cuInit: CUDA_ERROR_NO_DEVICE: no CUDA-capable device is detected\n",
      "2022-07-14 07:35:12.901265: I tensorflow/stream_executor/cuda/cuda_diagnostics.cc:156] kernel driver does not appear to be running on this host (wexnip-MS-7C80): /proc/driver/nvidia/version does not exist\n",
      "2022-07-14 07:35:12.901973: I tensorflow/core/platform/cpu_feature_guard.cc:151] This TensorFlow binary is optimized with oneAPI Deep Neural Network Library (oneDNN) to use the following CPU instructions in performance-critical operations:  AVX2 FMA\n",
      "To enable them in other operations, rebuild TensorFlow with the appropriate compiler flags.\n"
     ]
    }
   ],
   "source": [
    "# Parameters\n",
    "window_size = 30#60\n",
    "batch_size = 32\n",
    "shuffle_buffer_size = 1000\n",
    "\n",
    "# Generate the dataset windows\n",
    "train_set = windowed_dataset(x_train, window_size, batch_size, shuffle_buffer_size)"
   ]
  },
  {
   "cell_type": "markdown",
   "metadata": {
    "id": "_Lhpi42ta5yP"
   },
   "source": [
    "## Build the Model\n",
    "\n",
    "The model will be 3-layer dense network as shown below."
   ]
  },
  {
   "cell_type": "code",
   "execution_count": 9,
   "metadata": {
    "id": "AclfYY3Mn6Ph"
   },
   "outputs": [
    {
     "name": "stdout",
     "output_type": "stream",
     "text": [
      "Model: \"sequential\"\n",
      "_________________________________________________________________\n",
      " Layer (type)                Output Shape              Param #   \n",
      "=================================================================\n",
      " dense (Dense)               (None, 30)                930       \n",
      "                                                                 \n",
      " dense_1 (Dense)             (None, 10)                310       \n",
      "                                                                 \n",
      " dense_2 (Dense)             (None, 1)                 11        \n",
      "                                                                 \n",
      "=================================================================\n",
      "Total params: 1,251\n",
      "Trainable params: 1,251\n",
      "Non-trainable params: 0\n",
      "_________________________________________________________________\n"
     ]
    }
   ],
   "source": [
    "# Build the model\n",
    "model = tf.keras.models.Sequential([\n",
    "    tf.keras.layers.Dense(30, input_shape=[window_size], activation=\"relu\"), \n",
    "    tf.keras.layers.Dense(10, activation=\"relu\"),\n",
    "    tf.keras.layers.Dense(1)\n",
    "])\n",
    "\n",
    "# Print the model summary\n",
    "model.summary()"
   ]
  },
  {
   "cell_type": "markdown",
   "metadata": {
    "id": "uyT14hQOa97V"
   },
   "source": [
    "## Tune the Learning Rate\n",
    "\n",
    "You can pick a learning rate by running the same learning rate scheduler code from previous labs."
   ]
  },
  {
   "cell_type": "code",
   "execution_count": 10,
   "metadata": {
    "id": "GXiqsZQ1y4nD"
   },
   "outputs": [
    {
     "name": "stdout",
     "output_type": "stream",
     "text": [
      "Epoch 1/100\n",
      "93/93 [==============================] - 1s 3ms/step - loss: 66.8115 - lr: 1.0000e-08\n",
      "Epoch 2/100\n",
      "93/93 [==============================] - 0s 1ms/step - loss: 65.4893 - lr: 1.1220e-08\n",
      "Epoch 3/100\n",
      "93/93 [==============================] - 0s 1ms/step - loss: 63.9853 - lr: 1.2589e-08\n",
      "Epoch 4/100\n",
      "93/93 [==============================] - 0s 1ms/step - loss: 62.2965 - lr: 1.4125e-08\n",
      "Epoch 5/100\n",
      "93/93 [==============================] - 0s 1ms/step - loss: 60.4089 - lr: 1.5849e-08\n",
      "Epoch 6/100\n",
      "93/93 [==============================] - 0s 1ms/step - loss: 58.3010 - lr: 1.7783e-08\n",
      "Epoch 7/100\n",
      "93/93 [==============================] - 0s 1ms/step - loss: 55.9556 - lr: 1.9953e-08\n",
      "Epoch 8/100\n",
      "93/93 [==============================] - 0s 1ms/step - loss: 53.3811 - lr: 2.2387e-08\n",
      "Epoch 9/100\n",
      "93/93 [==============================] - 0s 998us/step - loss: 50.6063 - lr: 2.5119e-08\n",
      "Epoch 10/100\n",
      "93/93 [==============================] - 0s 994us/step - loss: 47.6932 - lr: 2.8184e-08\n",
      "Epoch 11/100\n",
      "93/93 [==============================] - 0s 981us/step - loss: 44.6213 - lr: 3.1623e-08\n",
      "Epoch 12/100\n",
      "93/93 [==============================] - 0s 1ms/step - loss: 41.5333 - lr: 3.5481e-08\n",
      "Epoch 13/100\n",
      "93/93 [==============================] - 0s 1ms/step - loss: 38.5560 - lr: 3.9811e-08\n",
      "Epoch 14/100\n",
      "93/93 [==============================] - 0s 998us/step - loss: 35.8349 - lr: 4.4668e-08\n",
      "Epoch 15/100\n",
      "93/93 [==============================] - 0s 988us/step - loss: 33.4463 - lr: 5.0119e-08\n",
      "Epoch 16/100\n",
      "93/93 [==============================] - 0s 989us/step - loss: 31.5168 - lr: 5.6234e-08\n",
      "Epoch 17/100\n",
      "93/93 [==============================] - 0s 989us/step - loss: 30.0703 - lr: 6.3096e-08\n",
      "Epoch 18/100\n",
      "93/93 [==============================] - 0s 969us/step - loss: 29.0437 - lr: 7.0795e-08\n",
      "Epoch 19/100\n",
      "93/93 [==============================] - 0s 1ms/step - loss: 28.2843 - lr: 7.9433e-08\n",
      "Epoch 20/100\n",
      "93/93 [==============================] - 0s 981us/step - loss: 27.7167 - lr: 8.9125e-08\n",
      "Epoch 21/100\n",
      "93/93 [==============================] - 0s 1ms/step - loss: 27.2864 - lr: 1.0000e-07\n",
      "Epoch 22/100\n",
      "93/93 [==============================] - 0s 1ms/step - loss: 26.8933 - lr: 1.1220e-07\n",
      "Epoch 23/100\n",
      "93/93 [==============================] - 0s 1ms/step - loss: 26.5082 - lr: 1.2589e-07\n",
      "Epoch 24/100\n",
      "93/93 [==============================] - 0s 1ms/step - loss: 26.1512 - lr: 1.4125e-07\n",
      "Epoch 25/100\n",
      "93/93 [==============================] - 0s 1ms/step - loss: 25.8077 - lr: 1.5849e-07\n",
      "Epoch 26/100\n",
      "93/93 [==============================] - 0s 996us/step - loss: 25.4851 - lr: 1.7783e-07\n",
      "Epoch 27/100\n",
      "93/93 [==============================] - 0s 1ms/step - loss: 25.1821 - lr: 1.9953e-07\n",
      "Epoch 28/100\n",
      "93/93 [==============================] - 0s 989us/step - loss: 24.9062 - lr: 2.2387e-07\n",
      "Epoch 29/100\n",
      "93/93 [==============================] - 0s 1ms/step - loss: 24.6510 - lr: 2.5119e-07\n",
      "Epoch 30/100\n",
      "93/93 [==============================] - 0s 1ms/step - loss: 24.3969 - lr: 2.8184e-07\n",
      "Epoch 31/100\n",
      "93/93 [==============================] - 0s 1ms/step - loss: 24.1632 - lr: 3.1623e-07\n",
      "Epoch 32/100\n",
      "93/93 [==============================] - 0s 1ms/step - loss: 23.9306 - lr: 3.5481e-07\n",
      "Epoch 33/100\n",
      "93/93 [==============================] - 0s 1ms/step - loss: 23.6885 - lr: 3.9811e-07\n",
      "Epoch 34/100\n",
      "93/93 [==============================] - 0s 1ms/step - loss: 23.4700 - lr: 4.4668e-07\n",
      "Epoch 35/100\n",
      "93/93 [==============================] - 0s 1ms/step - loss: 23.2421 - lr: 5.0119e-07\n",
      "Epoch 36/100\n",
      "93/93 [==============================] - 0s 1ms/step - loss: 23.0424 - lr: 5.6234e-07\n",
      "Epoch 37/100\n",
      "93/93 [==============================] - 0s 1ms/step - loss: 22.8114 - lr: 6.3096e-07\n",
      "Epoch 38/100\n",
      "93/93 [==============================] - 0s 1ms/step - loss: 22.6053 - lr: 7.0795e-07\n",
      "Epoch 39/100\n",
      "93/93 [==============================] - 0s 1ms/step - loss: 22.3801 - lr: 7.9433e-07\n",
      "Epoch 40/100\n",
      "93/93 [==============================] - 0s 1ms/step - loss: 22.1606 - lr: 8.9125e-07\n",
      "Epoch 41/100\n",
      "93/93 [==============================] - 0s 1ms/step - loss: 21.9445 - lr: 1.0000e-06\n",
      "Epoch 42/100\n",
      "93/93 [==============================] - 0s 1ms/step - loss: 21.7269 - lr: 1.1220e-06\n",
      "Epoch 43/100\n",
      "93/93 [==============================] - 0s 1ms/step - loss: 21.4934 - lr: 1.2589e-06\n",
      "Epoch 44/100\n",
      "93/93 [==============================] - 0s 992us/step - loss: 21.2541 - lr: 1.4125e-06\n",
      "Epoch 45/100\n",
      "93/93 [==============================] - 0s 1ms/step - loss: 21.0062 - lr: 1.5849e-06\n",
      "Epoch 46/100\n",
      "93/93 [==============================] - 0s 1ms/step - loss: 20.7499 - lr: 1.7783e-06\n",
      "Epoch 47/100\n",
      "93/93 [==============================] - 0s 976us/step - loss: 20.5244 - lr: 1.9953e-06\n",
      "Epoch 48/100\n",
      "93/93 [==============================] - 0s 1ms/step - loss: 20.2779 - lr: 2.2387e-06\n",
      "Epoch 49/100\n",
      "93/93 [==============================] - 0s 1ms/step - loss: 20.0854 - lr: 2.5119e-06\n",
      "Epoch 50/100\n",
      "93/93 [==============================] - 0s 996us/step - loss: 19.8236 - lr: 2.8184e-06\n",
      "Epoch 51/100\n",
      "93/93 [==============================] - 0s 1ms/step - loss: 19.6114 - lr: 3.1623e-06\n",
      "Epoch 52/100\n",
      "93/93 [==============================] - 0s 1ms/step - loss: 19.3943 - lr: 3.5481e-06\n",
      "Epoch 53/100\n",
      "93/93 [==============================] - 0s 985us/step - loss: 19.2402 - lr: 3.9811e-06\n",
      "Epoch 54/100\n",
      "93/93 [==============================] - 0s 998us/step - loss: 18.9623 - lr: 4.4668e-06\n",
      "Epoch 55/100\n",
      "93/93 [==============================] - 0s 984us/step - loss: 18.8308 - lr: 5.0119e-06\n",
      "Epoch 56/100\n",
      "93/93 [==============================] - 0s 1ms/step - loss: 18.7287 - lr: 5.6234e-06\n",
      "Epoch 57/100\n",
      "93/93 [==============================] - 0s 1ms/step - loss: 18.6180 - lr: 6.3096e-06\n",
      "Epoch 58/100\n",
      "93/93 [==============================] - 0s 1ms/step - loss: 18.4983 - lr: 7.0795e-06\n",
      "Epoch 59/100\n",
      "93/93 [==============================] - 0s 1ms/step - loss: 18.2260 - lr: 7.9433e-06\n",
      "Epoch 60/100\n",
      "93/93 [==============================] - 0s 974us/step - loss: 18.1429 - lr: 8.9125e-06\n",
      "Epoch 61/100\n",
      "93/93 [==============================] - 0s 1ms/step - loss: 17.9915 - lr: 1.0000e-05\n",
      "Epoch 62/100\n",
      "93/93 [==============================] - 0s 1ms/step - loss: 18.0413 - lr: 1.1220e-05\n",
      "Epoch 63/100\n",
      "93/93 [==============================] - 0s 1ms/step - loss: 17.9013 - lr: 1.2589e-05\n",
      "Epoch 64/100\n",
      "93/93 [==============================] - 0s 965us/step - loss: 18.0507 - lr: 1.4125e-05\n",
      "Epoch 65/100\n",
      "93/93 [==============================] - 0s 1ms/step - loss: 17.8702 - lr: 1.5849e-05\n",
      "Epoch 66/100\n",
      "93/93 [==============================] - 0s 1ms/step - loss: 17.6746 - lr: 1.7783e-05\n",
      "Epoch 67/100\n",
      "93/93 [==============================] - 0s 1000us/step - loss: 17.4825 - lr: 1.9953e-05\n",
      "Epoch 68/100\n",
      "93/93 [==============================] - 0s 999us/step - loss: 17.6712 - lr: 2.2387e-05\n",
      "Epoch 69/100\n",
      "93/93 [==============================] - 0s 1ms/step - loss: 17.5378 - lr: 2.5119e-05\n",
      "Epoch 70/100\n",
      "93/93 [==============================] - 0s 1ms/step - loss: 17.5043 - lr: 2.8184e-05\n",
      "Epoch 71/100\n",
      "93/93 [==============================] - 0s 1ms/step - loss: 17.6412 - lr: 3.1623e-05\n",
      "Epoch 72/100\n",
      "93/93 [==============================] - 0s 1ms/step - loss: 17.6133 - lr: 3.5481e-05\n",
      "Epoch 73/100\n",
      "93/93 [==============================] - 0s 991us/step - loss: 17.7744 - lr: 3.9811e-05\n",
      "Epoch 74/100\n",
      "93/93 [==============================] - 0s 1ms/step - loss: 17.4307 - lr: 4.4668e-05\n",
      "Epoch 75/100\n",
      "93/93 [==============================] - 0s 1ms/step - loss: 17.6287 - lr: 5.0119e-05\n",
      "Epoch 76/100\n",
      "93/93 [==============================] - 0s 987us/step - loss: 17.2891 - lr: 5.6234e-05\n",
      "Epoch 77/100\n",
      "93/93 [==============================] - 0s 1ms/step - loss: 17.5720 - lr: 6.3096e-05\n",
      "Epoch 78/100\n",
      "93/93 [==============================] - 0s 979us/step - loss: 17.6388 - lr: 7.0795e-05\n",
      "Epoch 79/100\n",
      "93/93 [==============================] - 0s 997us/step - loss: 17.5638 - lr: 7.9433e-05\n",
      "Epoch 80/100\n",
      "93/93 [==============================] - 0s 999us/step - loss: 18.2113 - lr: 8.9125e-05\n",
      "Epoch 81/100\n",
      "93/93 [==============================] - 0s 1ms/step - loss: 18.6425 - lr: 1.0000e-04\n",
      "Epoch 82/100\n",
      "93/93 [==============================] - 0s 997us/step - loss: 17.5682 - lr: 1.1220e-04\n",
      "Epoch 83/100\n",
      "93/93 [==============================] - 0s 999us/step - loss: 19.1205 - lr: 1.2589e-04\n",
      "Epoch 84/100\n",
      "93/93 [==============================] - 0s 1ms/step - loss: 17.9509 - lr: 1.4125e-04\n",
      "Epoch 85/100\n",
      "93/93 [==============================] - 0s 1ms/step - loss: 17.7144 - lr: 1.5849e-04\n",
      "Epoch 86/100\n",
      "93/93 [==============================] - 0s 1ms/step - loss: 17.9659 - lr: 1.7783e-04\n",
      "Epoch 87/100\n",
      "93/93 [==============================] - 0s 1ms/step - loss: 17.9597 - lr: 1.9953e-04\n",
      "Epoch 88/100\n",
      "93/93 [==============================] - 0s 972us/step - loss: 18.6797 - lr: 2.2387e-04\n",
      "Epoch 89/100\n",
      "93/93 [==============================] - 0s 1ms/step - loss: 18.1062 - lr: 2.5119e-04\n",
      "Epoch 90/100\n",
      "93/93 [==============================] - 0s 1ms/step - loss: 19.9962 - lr: 2.8184e-04\n",
      "Epoch 91/100\n",
      "93/93 [==============================] - 0s 982us/step - loss: 22.2550 - lr: 3.1623e-04\n",
      "Epoch 92/100\n",
      "93/93 [==============================] - 0s 993us/step - loss: 20.6469 - lr: 3.5481e-04\n",
      "Epoch 93/100\n",
      "93/93 [==============================] - 0s 1ms/step - loss: 19.7311 - lr: 3.9811e-04\n",
      "Epoch 94/100\n",
      "93/93 [==============================] - 0s 994us/step - loss: 21.3752 - lr: 4.4668e-04\n",
      "Epoch 95/100\n",
      "93/93 [==============================] - 0s 1ms/step - loss: 25.5122 - lr: 5.0119e-04\n",
      "Epoch 96/100\n",
      "93/93 [==============================] - 0s 997us/step - loss: 22.1946 - lr: 5.6234e-04\n",
      "Epoch 97/100\n",
      "93/93 [==============================] - 0s 1ms/step - loss: 23.8527 - lr: 6.3096e-04\n",
      "Epoch 98/100\n",
      "93/93 [==============================] - 0s 1ms/step - loss: 25.0707 - lr: 7.0795e-04\n",
      "Epoch 99/100\n",
      "93/93 [==============================] - 0s 1ms/step - loss: 22.7764 - lr: 7.9433e-04\n",
      "Epoch 100/100\n",
      "93/93 [==============================] - 0s 1ms/step - loss: 33.5230 - lr: 8.9125e-04\n"
     ]
    }
   ],
   "source": [
    "# Set the learning rate scheduler\n",
    "lr_schedule = tf.keras.callbacks.LearningRateScheduler(\n",
    "    lambda epoch: 1e-8 * 10**(epoch / 20))\n",
    "\n",
    "# Initialize the optimizer\n",
    "optimizer = tf.keras.optimizers.SGD(momentum=0.9)\n",
    "\n",
    "# Set the training parameters\n",
    "model.compile(loss=tf.keras.losses.Huber(), optimizer=optimizer)\n",
    "\n",
    "# Train the model\n",
    "history = model.fit(train_set, epochs=100, callbacks=[lr_schedule])"
   ]
  },
  {
   "cell_type": "code",
   "execution_count": 11,
   "metadata": {
    "id": "xJFAB1NTzGJV"
   },
   "outputs": [
    {
     "data": {
      "text/plain": [
       "(1e-08, 0.001, 0.0, 100.0)"
      ]
     },
     "execution_count": 11,
     "metadata": {},
     "output_type": "execute_result"
    },
    {
     "data": {
      "image/png": "[encoded data removed]",
      "text/plain": [
       "<Figure size 720x432 with 1 Axes>"
      ]
     },
     "metadata": {
      "needs_background": "light"
     },
     "output_type": "display_data"
    }
   ],
   "source": [
    "# Define the learning rate array\n",
    "lrs = 1e-8 * (10 ** (np.arange(100) / 20))\n",
    "\n",
    "# Set the figure size\n",
    "plt.figure(figsize=(10, 6))\n",
    "\n",
    "# Set the grid\n",
    "plt.grid(True)\n",
    "\n",
    "# Plot the loss in log scale\n",
    "plt.semilogx(lrs, history.history[\"loss\"])\n",
    "\n",
    "# Increase the tickmarks size\n",
    "plt.tick_params('both', length=10, width=1, which='both')\n",
    "\n",
    "# Set the plot boundaries\n",
    "plt.axis([1e-8, 1e-3, 0, 100])"
   ]
  },
  {
   "cell_type": "markdown",
   "metadata": {
    "id": "oY4mnUpNbFdc"
   },
   "source": [
    "## Train the Model\n",
    "\n",
    "Once you've picked a learning rate, you can rebuild the model and start training."
   ]
  },
  {
   "cell_type": "code",
   "execution_count": 12,
   "metadata": {
    "id": "Ngna3zR4znJd"
   },
   "outputs": [],
   "source": [
    "# Reset states generated by Keras\n",
    "tf.keras.backend.clear_session()\n",
    "\n",
    "# Build the Model\n",
    "model = tf.keras.models.Sequential([\n",
    "    tf.keras.layers.Dense(30, input_shape=[window_size], activation=\"relu\"), \n",
    "    tf.keras.layers.Dense(10, activation=\"relu\"),\n",
    "    tf.keras.layers.Dense(1)\n",
    "])"
   ]
  },
  {
   "cell_type": "code",
   "execution_count": 13,
   "metadata": {
    "id": "7FKXvEYxzuoc"
   },
   "outputs": [
    {
     "name": "stdout",
     "output_type": "stream",
     "text": [
      "Epoch 1/100\n",
      "93/93 [==============================] - 0s 1ms/step - loss: 36.7898 - mae: 37.2853\n",
      "Epoch 2/100\n",
      "93/93 [==============================] - 0s 1ms/step - loss: 19.4784 - mae: 19.9710\n",
      "Epoch 3/100\n",
      "93/93 [==============================] - 0s 1ms/step - loss: 19.1977 - mae: 19.6901\n",
      "Epoch 4/100\n",
      "93/93 [==============================] - 0s 1ms/step - loss: 18.5884 - mae: 19.0817\n",
      "Epoch 5/100\n",
      "93/93 [==============================] - 0s 1ms/step - loss: 18.5246 - mae: 19.0166\n",
      "Epoch 6/100\n",
      "93/93 [==============================] - 0s 1ms/step - loss: 18.3911 - mae: 18.8827\n",
      "Epoch 7/100\n",
      "93/93 [==============================] - 0s 1ms/step - loss: 18.2347 - mae: 18.7261\n",
      "Epoch 8/100\n",
      "93/93 [==============================] - 0s 1ms/step - loss: 17.9481 - mae: 18.4396\n",
      "Epoch 9/100\n",
      "93/93 [==============================] - 0s 1ms/step - loss: 17.8245 - mae: 18.3162\n",
      "Epoch 10/100\n",
      "93/93 [==============================] - 0s 999us/step - loss: 17.6521 - mae: 18.1440\n",
      "Epoch 11/100\n",
      "93/93 [==============================] - 0s 1ms/step - loss: 17.8422 - mae: 18.3342\n",
      "Epoch 12/100\n",
      "93/93 [==============================] - 0s 980us/step - loss: 17.6623 - mae: 18.1539\n",
      "Epoch 13/100\n",
      "93/93 [==============================] - 0s 961us/step - loss: 17.5745 - mae: 18.0664\n",
      "Epoch 14/100\n",
      "93/93 [==============================] - 0s 1ms/step - loss: 17.6243 - mae: 18.1178\n",
      "Epoch 15/100\n",
      "93/93 [==============================] - 0s 1ms/step - loss: 17.5975 - mae: 18.0898\n",
      "Epoch 16/100\n",
      "93/93 [==============================] - 0s 1ms/step - loss: 17.4564 - mae: 17.9496\n",
      "Epoch 17/100\n",
      "93/93 [==============================] - 0s 1ms/step - loss: 17.5085 - mae: 18.0011\n",
      "Epoch 18/100\n",
      "93/93 [==============================] - 0s 998us/step - loss: 17.2832 - mae: 17.7755\n",
      "Epoch 19/100\n",
      "93/93 [==============================] - 0s 1ms/step - loss: 17.5783 - mae: 18.0696\n",
      "Epoch 20/100\n",
      "93/93 [==============================] - 0s 1ms/step - loss: 17.3408 - mae: 17.8330\n",
      "Epoch 21/100\n",
      "93/93 [==============================] - 0s 1ms/step - loss: 17.1697 - mae: 17.6623\n",
      "Epoch 22/100\n",
      "93/93 [==============================] - 0s 1ms/step - loss: 17.1525 - mae: 17.6438\n",
      "Epoch 23/100\n",
      "93/93 [==============================] - 0s 997us/step - loss: 17.3730 - mae: 17.8652\n",
      "Epoch 24/100\n",
      "93/93 [==============================] - 0s 1ms/step - loss: 17.3097 - mae: 17.8008\n",
      "Epoch 25/100\n",
      "93/93 [==============================] - 0s 989us/step - loss: 17.1746 - mae: 17.6669\n",
      "Epoch 26/100\n",
      "93/93 [==============================] - 0s 990us/step - loss: 17.1073 - mae: 17.5988\n",
      "Epoch 27/100\n",
      "93/93 [==============================] - 0s 996us/step - loss: 17.0115 - mae: 17.5032\n",
      "Epoch 28/100\n",
      "93/93 [==============================] - 0s 999us/step - loss: 17.1091 - mae: 17.6017\n",
      "Epoch 29/100\n",
      "93/93 [==============================] - 0s 1ms/step - loss: 17.0332 - mae: 17.5269\n",
      "Epoch 30/100\n",
      "93/93 [==============================] - 0s 1ms/step - loss: 16.9755 - mae: 17.4665\n",
      "Epoch 31/100\n",
      "93/93 [==============================] - 0s 1ms/step - loss: 16.9658 - mae: 17.4586\n",
      "Epoch 32/100\n",
      "93/93 [==============================] - 0s 1ms/step - loss: 17.0615 - mae: 17.5535\n",
      "Epoch 33/100\n",
      "93/93 [==============================] - 0s 1ms/step - loss: 17.0352 - mae: 17.5271\n",
      "Epoch 34/100\n",
      "93/93 [==============================] - 0s 1ms/step - loss: 17.0080 - mae: 17.4994\n",
      "Epoch 35/100\n",
      "93/93 [==============================] - 0s 1ms/step - loss: 17.1205 - mae: 17.6122\n",
      "Epoch 36/100\n",
      "93/93 [==============================] - 0s 1ms/step - loss: 17.0671 - mae: 17.5601\n",
      "Epoch 37/100\n",
      "93/93 [==============================] - 0s 1ms/step - loss: 16.9130 - mae: 17.4050\n",
      "Epoch 38/100\n",
      "93/93 [==============================] - 0s 987us/step - loss: 17.0012 - mae: 17.4944\n",
      "Epoch 39/100\n",
      "93/93 [==============================] - 0s 1ms/step - loss: 16.8893 - mae: 17.3809\n",
      "Epoch 40/100\n",
      "93/93 [==============================] - 0s 1ms/step - loss: 16.9208 - mae: 17.4126\n",
      "Epoch 41/100\n",
      "93/93 [==============================] - 0s 991us/step - loss: 16.9599 - mae: 17.4519\n",
      "Epoch 42/100\n",
      "93/93 [==============================] - 0s 1ms/step - loss: 16.9498 - mae: 17.4417\n",
      "Epoch 43/100\n",
      "93/93 [==============================] - 0s 1ms/step - loss: 16.9595 - mae: 17.4519\n",
      "Epoch 44/100\n",
      "93/93 [==============================] - 0s 1ms/step - loss: 16.7676 - mae: 17.2597\n",
      "Epoch 45/100\n",
      "93/93 [==============================] - 0s 1ms/step - loss: 16.8567 - mae: 17.3477\n",
      "Epoch 46/100\n",
      "93/93 [==============================] - 0s 1ms/step - loss: 17.0335 - mae: 17.5241\n",
      "Epoch 47/100\n",
      "93/93 [==============================] - 0s 1ms/step - loss: 16.8627 - mae: 17.3521\n",
      "Epoch 48/100\n",
      "93/93 [==============================] - 0s 1ms/step - loss: 16.8416 - mae: 17.3321\n",
      "Epoch 49/100\n",
      "93/93 [==============================] - 0s 1ms/step - loss: 16.7643 - mae: 17.2551\n",
      "Epoch 50/100\n",
      "93/93 [==============================] - 0s 1ms/step - loss: 16.7298 - mae: 17.2210\n",
      "Epoch 51/100\n",
      "93/93 [==============================] - 0s 1ms/step - loss: 16.8418 - mae: 17.3337\n",
      "Epoch 52/100\n",
      "93/93 [==============================] - 0s 1ms/step - loss: 16.8184 - mae: 17.3115\n",
      "Epoch 53/100\n",
      "93/93 [==============================] - 0s 1ms/step - loss: 16.8340 - mae: 17.3267\n",
      "Epoch 54/100\n",
      "93/93 [==============================] - 0s 1ms/step - loss: 17.0210 - mae: 17.5119\n",
      "Epoch 55/100\n",
      "93/93 [==============================] - 0s 1ms/step - loss: 16.7184 - mae: 17.2098\n",
      "Epoch 56/100\n",
      "93/93 [==============================] - 0s 1ms/step - loss: 16.8097 - mae: 17.3028\n",
      "Epoch 57/100\n",
      "93/93 [==============================] - 0s 1ms/step - loss: 17.0838 - mae: 17.5755\n",
      "Epoch 58/100\n",
      "93/93 [==============================] - 0s 1ms/step - loss: 16.9128 - mae: 17.4032\n",
      "Epoch 59/100\n",
      "93/93 [==============================] - 0s 1ms/step - loss: 16.6783 - mae: 17.1695\n",
      "Epoch 60/100\n",
      "93/93 [==============================] - 0s 1ms/step - loss: 16.8902 - mae: 17.3816\n",
      "Epoch 61/100\n",
      "93/93 [==============================] - 0s 1ms/step - loss: 16.8659 - mae: 17.3569\n",
      "Epoch 62/100\n",
      "93/93 [==============================] - 0s 1ms/step - loss: 16.7429 - mae: 17.2334\n",
      "Epoch 63/100\n",
      "93/93 [==============================] - 0s 1ms/step - loss: 16.8020 - mae: 17.2942\n",
      "Epoch 64/100\n",
      "93/93 [==============================] - 0s 1ms/step - loss: 16.8590 - mae: 17.3516\n",
      "Epoch 65/100\n",
      "93/93 [==============================] - 0s 993us/step - loss: 16.7811 - mae: 17.2731\n",
      "Epoch 66/100\n",
      "93/93 [==============================] - 0s 1ms/step - loss: 16.7839 - mae: 17.2750\n",
      "Epoch 67/100\n",
      "93/93 [==============================] - 0s 1ms/step - loss: 16.6547 - mae: 17.1464\n",
      "Epoch 68/100\n",
      "93/93 [==============================] - 0s 1ms/step - loss: 16.8140 - mae: 17.3054\n",
      "Epoch 69/100\n",
      "93/93 [==============================] - 0s 1ms/step - loss: 16.8008 - mae: 17.2916\n",
      "Epoch 70/100\n",
      "93/93 [==============================] - 0s 1ms/step - loss: 16.9711 - mae: 17.4624\n",
      "Epoch 71/100\n",
      "93/93 [==============================] - 0s 1ms/step - loss: 16.8407 - mae: 17.3320\n",
      "Epoch 72/100\n",
      "93/93 [==============================] - 0s 1000us/step - loss: 16.7407 - mae: 17.2317\n",
      "Epoch 73/100\n",
      "93/93 [==============================] - 0s 1ms/step - loss: 16.5794 - mae: 17.0696\n",
      "Epoch 74/100\n",
      "93/93 [==============================] - 0s 1ms/step - loss: 16.7415 - mae: 17.2318\n",
      "Epoch 75/100\n",
      "93/93 [==============================] - 0s 1ms/step - loss: 16.7768 - mae: 17.2685\n",
      "Epoch 76/100\n",
      "93/93 [==============================] - 0s 1ms/step - loss: 16.7710 - mae: 17.2623\n",
      "Epoch 77/100\n",
      "93/93 [==============================] - 0s 1ms/step - loss: 16.9042 - mae: 17.3955\n",
      "Epoch 78/100\n",
      "93/93 [==============================] - 0s 1ms/step - loss: 16.8051 - mae: 17.2963\n",
      "Epoch 79/100\n",
      "93/93 [==============================] - 0s 1ms/step - loss: 16.6828 - mae: 17.1743\n",
      "Epoch 80/100\n",
      "93/93 [==============================] - 0s 1ms/step - loss: 16.6040 - mae: 17.0955\n",
      "Epoch 81/100\n",
      "93/93 [==============================] - 0s 1ms/step - loss: 16.5569 - mae: 17.0488\n",
      "Epoch 82/100\n",
      "93/93 [==============================] - 0s 1ms/step - loss: 16.5675 - mae: 17.0578\n",
      "Epoch 83/100\n",
      "93/93 [==============================] - 0s 1ms/step - loss: 16.6936 - mae: 17.1849\n",
      "Epoch 84/100\n",
      "93/93 [==============================] - 0s 1ms/step - loss: 16.8059 - mae: 17.2977\n",
      "Epoch 85/100\n",
      "93/93 [==============================] - 0s 1ms/step - loss: 16.6886 - mae: 17.1790\n",
      "Epoch 86/100\n",
      "93/93 [==============================] - 0s 1ms/step - loss: 16.5646 - mae: 17.0562\n",
      "Epoch 87/100\n",
      "93/93 [==============================] - 0s 1ms/step - loss: 16.5718 - mae: 17.0618\n",
      "Epoch 88/100\n",
      "93/93 [==============================] - 0s 1ms/step - loss: 16.5814 - mae: 17.0722\n",
      "Epoch 89/100\n",
      "93/93 [==============================] - 0s 1ms/step - loss: 16.5636 - mae: 17.0541\n",
      "Epoch 90/100\n",
      "93/93 [==============================] - 0s 1ms/step - loss: 16.4957 - mae: 16.9890\n",
      "Epoch 91/100\n",
      "93/93 [==============================] - 0s 997us/step - loss: 16.6528 - mae: 17.1447\n",
      "Epoch 92/100\n",
      "93/93 [==============================] - 0s 1ms/step - loss: 16.7926 - mae: 17.2840\n",
      "Epoch 93/100\n",
      "93/93 [==============================] - 0s 1ms/step - loss: 16.7750 - mae: 17.2672\n",
      "Epoch 94/100\n",
      "93/93 [==============================] - 0s 1ms/step - loss: 16.6323 - mae: 17.1240\n",
      "Epoch 95/100\n",
      "93/93 [==============================] - 0s 1ms/step - loss: 16.4971 - mae: 16.9881\n",
      "Epoch 96/100\n",
      "93/93 [==============================] - 0s 1ms/step - loss: 16.6835 - mae: 17.1754\n",
      "Epoch 97/100\n",
      "93/93 [==============================] - 0s 984us/step - loss: 16.9581 - mae: 17.4501\n",
      "Epoch 98/100\n",
      "93/93 [==============================] - 0s 974us/step - loss: 16.5667 - mae: 17.0582\n",
      "Epoch 99/100\n",
      "93/93 [==============================] - 0s 1ms/step - loss: 16.6282 - mae: 17.1181\n",
      "Epoch 100/100\n",
      "93/93 [==============================] - 0s 1ms/step - loss: 16.5986 - mae: 17.0900\n"
     ]
    }
   ],
   "source": [
    "# Set the learning rate\n",
    "learning_rate = 2e-5\n",
    "\n",
    "# Set the optimizer \n",
    "optimizer = tf.keras.optimizers.SGD(learning_rate=learning_rate, momentum=0.9)\n",
    "\n",
    "# Set the training parameters\n",
    "model.compile(loss=tf.keras.losses.Huber(),\n",
    "              optimizer=optimizer,\n",
    "              metrics=[\"mae\"])\n",
    "\n",
    "# Train the model\n",
    "history = model.fit(train_set,epochs=100)"
   ]
  },
  {
   "cell_type": "markdown",
   "metadata": {
    "id": "b1iV2t8ibIka"
   },
   "source": [
    "## Model Prediction\n",
    "\n",
    "Now see if the model generates good results. If you used the default parameters of this notebook, you should see the predictions follow the shape of the ground truth with an MAE of around 15. "
   ]
  },
  {
   "cell_type": "code",
   "execution_count": 14,
   "metadata": {
    "id": "djn06Tri2B6_"
   },
   "outputs": [],
   "source": [
    "def model_forecast(model, series, window_size, batch_size):\n",
    "    \"\"\"Uses an input model to generate predictions on data windows\n",
    "\n",
    "    Args:\n",
    "      model (TF Keras Model) - model that accepts data windows\n",
    "      series (array of float) - contains the values of the time series\n",
    "      window_size (int) - the number of time steps to include in the window\n",
    "      batch_size (int) - the batch size\n",
    "\n",
    "    Returns:\n",
    "      forecast (numpy array) - array containing predictions\n",
    "    \"\"\"\n",
    "\n",
    "    # Generate a TF Dataset from the series values\n",
    "    dataset = tf.data.Dataset.from_tensor_slices(series)\n",
    "\n",
    "    # Window the data but only take those with the specified size\n",
    "    dataset = dataset.window(window_size, shift=1, drop_remainder=True)\n",
    "\n",
    "    # Flatten the windows by putting its elements in a single batch\n",
    "    dataset = dataset.flat_map(lambda w: w.batch(window_size))\n",
    "    \n",
    "    # Create batches of windows\n",
    "    dataset = dataset.batch(batch_size).prefetch(1)\n",
    "    \n",
    "    # Get predictions on the entire dataset\n",
    "    forecast = model.predict(dataset)\n",
    "    \n",
    "    return forecast"
   ]
  },
  {
   "cell_type": "code",
   "execution_count": 15,
   "metadata": {
    "id": "GaC6NNMRp0lb"
   },
   "outputs": [
    {
     "data": {
      "image/png": "[encoded data removed]",
      "text/plain": [
       "<Figure size 720x432 with 1 Axes>"
      ]
     },
     "metadata": {
      "needs_background": "light"
     },
     "output_type": "display_data"
    }
   ],
   "source": [
    "# Reduce the original series\n",
    "forecast_series = series[split_time-window_size:-1]\n",
    "\n",
    "# Use helper function to generate predictions\n",
    "forecast = model_forecast(model, forecast_series, window_size, batch_size)\n",
    "\n",
    "# Drop single dimensional axis\n",
    "results = forecast.squeeze()\n",
    "\n",
    "# Plot the results\n",
    "plot_series(time_valid, (x_valid, results))"
   ]
  },
  {
   "cell_type": "code",
   "execution_count": 16,
   "metadata": {
    "id": "13XrorC5wQoE"
   },
   "outputs": [
    {
     "name": "stdout",
     "output_type": "stream",
     "text": [
      "15.293641\n"
     ]
    }
   ],
   "source": [
    "# Compute the MAE\n",
    "print(tf.keras.metrics.mean_absolute_error(x_valid, results).numpy())"
   ]
  },
  {
   "cell_type": "markdown",
   "metadata": {
    "id": "YqMGN9S5veN2"
   },
   "source": [
    "## Wrap Up\n",
    "\n",
    "In this lab, you built a relatively simple DNN to forecast sunspot numbers for a given month. We encourage you to tweak the parameters or train longer and see the best results you can get. In the next lab, you will build a more complex model and you evaluate if the added complexity translates to better or worse results."
   ]
  }
 ],
 "metadata": {
  "colab": {
   "collapsed_sections": [],
   "name": "C4_W4_Lab_2_Sunspots_DNN.ipynb",
   "private_outputs": true,
   "provenance": [
    {
     "file_id": "https://github.com/https-deeplearning-ai/tensorflow-1-public/blob/adding_C4/C4/W4/ungraded_labs/C4_W4_Lab_3_DNN_only.ipynb",
     "timestamp": 1641292790865
    }
   ]
  },
  "kernelspec": {
   "display_name": "Python 3 (ipykernel)",
   "language": "python",
   "name": "python3"
  },
  "language_info": {
   "codemirror_mode": {
    "name": "ipython",
    "version": 3
   },
   "file_extension": ".py",
   "mimetype": "text/x-python",
   "name": "python",
   "nbconvert_exporter": "python",
   "pygments_lexer": "ipython3",
   "version": "3.8.6"
  }
 },
 "nbformat": 4,
 "nbformat_minor": 4
}
