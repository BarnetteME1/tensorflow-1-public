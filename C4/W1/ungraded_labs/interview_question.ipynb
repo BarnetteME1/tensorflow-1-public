{
 "cells": [
  {
   "cell_type": "markdown",
   "id": "e4ce6437-0772-4f2b-8666-79e7c6b9ea5d",
   "metadata": {},
   "source": [
    "Let's say you were given a list of letters, e.g., [a, b, c, e, l, l, t] and a list of words, e.g., [\"ball\",\"dog\",\"cat\",\"pet\"]. How many words in the second list can be composed using the letters in the first list? \n",
    "\n",
    "Note: if you use a letter once, it cannot be reused. e.g., if you have one \"a” in the first list, you cannot compose the word \"naan\""
   ]
  },
  {
   "cell_type": "code",
   "execution_count": 2,
   "id": "471a792a-568f-44d1-83b4-379a3598839e",
   "metadata": {},
   "outputs": [],
   "source": [
    "letters = ['a', 'b', 'c', 'e', 'l', 'l', 't']\n",
    "words = [\"ball\",\"dog\",\"cat\",\"pet\"]"
   ]
  },
  {
   "cell_type": "code",
   "execution_count": 4,
   "id": "6ad6718e-0e21-4cbf-9d54-0d211df7f85f",
   "metadata": {},
   "outputs": [],
   "source": [
    "letter_dict = {}\n",
    "for letter in letters:\n",
    "    letter_dict[letter] = letter_dict.get(letter, 0) + 1"
   ]
  },
  {
   "cell_type": "code",
   "execution_count": 5,
   "id": "ce6fab1a-47be-49de-b946-908687a62d40",
   "metadata": {},
   "outputs": [
    {
     "data": {
      "text/plain": [
       "{'a': 1, 'b': 1, 'c': 1, 'e': 1, 'l': 2, 't': 1}"
      ]
     },
     "execution_count": 5,
     "metadata": {},
     "output_type": "execute_result"
    }
   ],
   "source": [
    "letter_dict"
   ]
  },
  {
   "cell_type": "code",
   "execution_count": null,
   "id": "a145c026-5437-4433-8fdc-13152a396b0e",
   "metadata": {},
   "outputs": [
    {
     "name": "stdout",
     "output_type": "stream",
     "text": [
      "ball\n",
      "a\n",
      "ball\n",
      "b\n"
     ]
    }
   ],
   "source": [
    "for word in words:\n",
    "    for key, value in letter_dict.items():\n",
    "        while value > 0:\n",
    "            if key in word:\n",
    "                value -= 1\n",
    "                print(word)\n",
    "                print(key)"
   ]
  },
  {
   "cell_type": "markdown",
   "id": "1ddc2db7-8877-4cf4-b322-e7148e8c8591",
   "metadata": {},
   "source": [
    "If you have a table with columns: \n",
    "[date, num_apples_sold, tot_apple_income, num_oranges_sold, tot_orange_income]\n",
    "how would you find the day and number of apples sold on the date for which the total income from oranges was greatest?"
   ]
  },
  {
   "cell_type": "code",
   "execution_count": null,
   "id": "a3eac150-1d31-4d1d-9cc9-9aac5818c579",
   "metadata": {},
   "outputs": [],
   "source": [
    "select date, num_apples_sold\n",
    "from fruit_income\n",
    "where total_orange_income = (select max(total_orange_income) from fruit_income);"
   ]
  },
  {
   "cell_type": "raw",
   "id": "ff8ae564-e9d3-4301-a393-7e6f18e68cb5",
   "metadata": {},
   "source": [
    "get back to data structure and oop\n",
    "Leet code\n",
    "Hacker Ranks"
   ]
  },
  {
   "cell_type": "raw",
   "id": "5e76c663-154b-4d48-bb79-87164fc2bda1",
   "metadata": {},
   "source": [
    "communicate\n",
    "ability to problem solve\n",
    "ability to code\n",
    "ability to persuade"
   ]
  }
 ],
 "metadata": {
  "kernelspec": {
   "display_name": "Python 3 (ipykernel)",
   "language": "python",
   "name": "python3"
  },
  "language_info": {
   "codemirror_mode": {
    "name": "ipython",
    "version": 3
   },
   "file_extension": ".py",
   "mimetype": "text/x-python",
   "name": "python",
   "nbconvert_exporter": "python",
   "pygments_lexer": "ipython3",
   "version": "3.8.6"
  }
 },
 "nbformat": 4,
 "nbformat_minor": 5
}
